{
 "cells": [
  {
   "cell_type": "code",
   "execution_count": 2,
   "metadata": {},
   "outputs": [],
   "source": [
    "import numpy as np\n",
    "import pandas as pd\n",
    "import matplotlib.pyplot as plt\n",
    "import seaborn as sns\n",
    "%matplotlib inline"
   ]
  },
  {
   "cell_type": "code",
   "execution_count": 3,
   "metadata": {},
   "outputs": [],
   "source": [
    "df_train=pd.read_csv('train.csv')"
   ]
  },
  {
   "cell_type": "code",
   "execution_count": 4,
   "metadata": {},
   "outputs": [
    {
     "name": "stdout",
     "output_type": "stream",
     "text": [
      "(2400, 11)\n",
      "(2400,)\n"
     ]
    }
   ],
   "source": [
    "X_train_all=df_train.iloc[:,1:-2]\n",
    "formation_e=df_train.iloc[:,-2]\n",
    "bandgap_e=df_train.iloc[:,-1]\n",
    "print(X_train_all.shape)\n",
    "print(formation_e.shape)"
   ]
  },
  {
   "cell_type": "code",
   "execution_count": 5,
   "metadata": {},
   "outputs": [
    {
     "name": "stdout",
     "output_type": "stream",
     "text": [
      "(1680, 11)\n",
      "(1680,)\n"
     ]
    }
   ],
   "source": [
    "from sklearn.model_selection import train_test_split\n",
    "X_train, X_test, fe_train,fe_test,bg_train,bg_test =\\\n",
    "    train_test_split(X_train_all, formation_e, bandgap_e, test_size=0.3, random_state=101)\n",
    "print(X_train.shape)\n",
    "print(fe_train.shape)"
   ]
  },
  {
   "cell_type": "code",
   "execution_count": 6,
   "metadata": {},
   "outputs": [
    {
     "name": "stdout",
     "output_type": "stream",
     "text": [
      "(2400, 11)\n",
      "(1680, 11)\n",
      "(1680,)\n"
     ]
    }
   ],
   "source": [
    "mean=X_train.mean(axis=0)\n",
    "std=X_train.std(axis=0)\n",
    "\n",
    "X_train-=mean\n",
    "X_test-=mean\n",
    "\n",
    "X_train/=std\n",
    "X_test/=std\n",
    "\n",
    "#the max for the lattice_angle_alpha_degree is a bit large, looking at the histogram of this column\n",
    "#shows that it is a bit skewed. maybe it is becase of the discontinuity in the angle from 0 to 360 degrees\n",
    "#reparametrization of the data might help\n",
    "\n",
    "print(X_train_all.shape)\n",
    "print(X_train.shape)\n",
    "print(fe_train.shape)"
   ]
  },
  {
   "cell_type": "code",
   "execution_count": 7,
   "metadata": {},
   "outputs": [],
   "source": [
    "#from sklearn.manifold import Isomap\n",
    "#model = Isomap(n_neighbors=25, n_components=3)\n",
    "#X_embedded = model.fit_transform(X_train)\n",
    "#X_embedded_test = model.transform(X_test)"
   ]
  },
  {
   "cell_type": "code",
   "execution_count": 8,
   "metadata": {},
   "outputs": [],
   "source": [
    "#plt.scatter(X_embedded[:, 0],X_embedded[:, 1])"
   ]
  },
  {
   "cell_type": "code",
   "execution_count": 9,
   "metadata": {},
   "outputs": [
    {
     "name": "stdout",
     "output_type": "stream",
     "text": [
      "(1680, 21)\n",
      "   spacegroup  number_of_total_atoms  percent_atom_al  percent_atom_ga  \\\n",
      "0    0.769588               0.808445        -1.098680         2.293487   \n",
      "1    1.015640              -0.957729         1.134929        -0.508165   \n",
      "2   -1.503461               0.808445        -1.451572         0.425434   \n",
      "3   -1.503461               0.808445         0.194383        -0.241362   \n",
      "4    0.769588               0.808445        -0.981299        -1.308576   \n",
      "\n",
      "   percent_atom_in  lattice_vector_1_ang  lattice_vector_2_ang  \\\n",
      "0        -0.926240             -0.119460              1.232599   \n",
      "1        -0.690075             -0.052910             -0.732131   \n",
      "2         1.081353              2.578604             -0.304136   \n",
      "3         0.018421              2.511686             -0.452576   \n",
      "4         2.143907              0.004901              1.604988   \n",
      "\n",
      "   lattice_vector_3_ang  lattice_angle_alpha_degree  \\\n",
      "0             -0.570631                   -0.194190   \n",
      "1              0.279898                    0.578880   \n",
      "2             -1.110130                   -0.198126   \n",
      "3             -1.179670                   -0.198572   \n",
      "4             -0.440414                   -0.197978   \n",
      "\n",
      "   lattice_angle_beta_degree ...   cl0  cl1  cl2  cl3  cl4  cl5  cl6  cl7  \\\n",
      "0                  -0.463950 ...   0.0  0.0  0.0  0.0  0.0  1.0  0.0  0.0   \n",
      "1                  -0.238368 ...   1.0  0.0  0.0  0.0  0.0  0.0  0.0  0.0   \n",
      "2                   2.379617 ...   0.0  0.0  0.0  1.0  0.0  0.0  0.0  0.0   \n",
      "3                   2.274748 ...   0.0  0.0  0.0  1.0  0.0  0.0  0.0  0.0   \n",
      "4                  -0.464715 ...   0.0  0.0  1.0  0.0  0.0  0.0  0.0  0.0   \n",
      "\n",
      "   cl8  cl9  \n",
      "0  0.0  0.0  \n",
      "1  0.0  0.0  \n",
      "2  0.0  0.0  \n",
      "3  0.0  0.0  \n",
      "4  0.0  0.0  \n",
      "\n",
      "[5 rows x 21 columns]\n"
     ]
    }
   ],
   "source": [
    "from sklearn.cluster import KMeans\n",
    "\n",
    "n_clusters=10\n",
    "kmeans = KMeans(n_clusters=n_clusters, random_state=0).fit(X_train)\n",
    "\n",
    "columns = list(X_train.columns)\n",
    "cluster_cols = ['cl' + str(i) for i in range(n_clusters)]\n",
    "cluster_df = pd.get_dummies(kmeans.labels_).values\n",
    "\n",
    "X_train_concat = np.concatenate([X_train.values, cluster_df], axis=1)\n",
    "X_train = pd.DataFrame(X_train_concat, columns=columns + cluster_cols)\n",
    "\n",
    "print(X_train.shape)\n",
    "print(X_train.head())"
   ]
  },
  {
   "cell_type": "code",
   "execution_count": 10,
   "metadata": {},
   "outputs": [],
   "source": [
    "pred=kmeans.predict(X_test)"
   ]
  },
  {
   "cell_type": "code",
   "execution_count": 11,
   "metadata": {},
   "outputs": [
    {
     "name": "stdout",
     "output_type": "stream",
     "text": [
      "(1223, 21)\n"
     ]
    }
   ],
   "source": [
    "cluster_test=pd.get_dummies(pred)\n",
    "X_test = pd.concat([X_test, cluster_test], axis=1)\n",
    "print(X_test.shape)"
   ]
  },
  {
   "cell_type": "code",
   "execution_count": 12,
   "metadata": {},
   "outputs": [],
   "source": [
    "from sklearn.model_selection import GridSearchCV\n",
    "import copy\n",
    "\n",
    "import xgboost as xgb\n",
    "\n",
    "model1 = GridSearchCV(\n",
    "    xgb.XGBRegressor(),\n",
    "    param_grid={'max_depth':[1,2,3,4,5,6,7],'n_estimators':[50,100,200]},\n",
    "    scoring='r2',\n",
    "    verbose=1,\n",
    "    n_jobs=4,\n",
    ")\n",
    "model2 = copy.deepcopy(model1)"
   ]
  },
  {
   "cell_type": "code",
   "execution_count": 13,
   "metadata": {},
   "outputs": [
    {
     "name": "stdout",
     "output_type": "stream",
     "text": [
      "Fitting 3 folds for each of 21 candidates, totalling 63 fits\n"
     ]
    },
    {
     "name": "stderr",
     "output_type": "stream",
     "text": [
      "[Parallel(n_jobs=4)]: Done  56 out of  63 | elapsed:    3.3s remaining:    0.4s\n"
     ]
    },
    {
     "name": "stdout",
     "output_type": "stream",
     "text": [
      "0.8306432774130252 {'max_depth': 3, 'n_estimators': 100}\n",
      "[('percent_atom_in', 0.1527559),\n",
      " ('percent_atom_al', 0.14173229),\n",
      " ('lattice_angle_gamma_degree', 0.10393701),\n",
      " ('lattice_vector_2_ang', 0.096062995),\n",
      " ('lattice_vector_3_ang', 0.09448819),\n",
      " ('lattice_angle_alpha_degree', 0.08661418),\n",
      " ('percent_atom_ga', 0.08503937),\n",
      " ('lattice_vector_1_ang', 0.08503937),\n",
      " ('lattice_angle_beta_degree', 0.080314964),\n",
      " ('spacegroup', 0.05511811),\n",
      " ('number_of_total_atoms', 0.014173228),\n",
      " ('cl6', 0.0031496063),\n",
      " ('cl9', 0.0015748031),\n",
      " ('cl0', 0.0),\n",
      " ('cl1', 0.0),\n",
      " ('cl2', 0.0),\n",
      " ('cl3', 0.0),\n",
      " ('cl4', 0.0),\n",
      " ('cl5', 0.0),\n",
      " ('cl7', 0.0),\n",
      " ('cl8', 0.0)]\n"
     ]
    },
    {
     "name": "stderr",
     "output_type": "stream",
     "text": [
      "[Parallel(n_jobs=4)]: Done  63 out of  63 | elapsed:    3.8s finished\n"
     ]
    }
   ],
   "source": [
    "model1.fit(X_train,fe_train )\n",
    "\n",
    "print(model1.best_score_ ,model1.best_params_)\n",
    "from pprint import pprint\n",
    "pprint(sorted(zip(X_train.columns, model1.best_estimator_.feature_importances_), key=lambda x: -x[1]))"
   ]
  },
  {
   "cell_type": "code",
   "execution_count": 14,
   "metadata": {},
   "outputs": [
    {
     "name": "stdout",
     "output_type": "stream",
     "text": [
      "Fitting 3 folds for each of 21 candidates, totalling 63 fits\n"
     ]
    },
    {
     "name": "stderr",
     "output_type": "stream",
     "text": [
      "[Parallel(n_jobs=4)]: Done  63 out of  63 | elapsed:    3.9s finished\n"
     ]
    },
    {
     "name": "stdout",
     "output_type": "stream",
     "text": [
      "0.9460860792980776 {'max_depth': 3, 'n_estimators': 200}\n",
      "[('percent_atom_al', 0.15432099),\n",
      " ('lattice_angle_gamma_degree', 0.14429012),\n",
      " ('lattice_angle_alpha_degree', 0.11419753),\n",
      " ('lattice_vector_3_ang', 0.11265432),\n",
      " ('lattice_vector_1_ang', 0.10570987),\n",
      " ('percent_atom_in', 0.093364194),\n",
      " ('lattice_angle_beta_degree', 0.081018515),\n",
      " ('percent_atom_ga', 0.07330247),\n",
      " ('lattice_vector_2_ang', 0.063271604),\n",
      " ('spacegroup', 0.044753086),\n",
      " ('cl6', 0.0046296297),\n",
      " ('cl0', 0.0030864198),\n",
      " ('cl5', 0.0030864198),\n",
      " ('number_of_total_atoms', 0.0023148148),\n",
      " ('cl1', 0.0),\n",
      " ('cl2', 0.0),\n",
      " ('cl3', 0.0),\n",
      " ('cl4', 0.0),\n",
      " ('cl7', 0.0),\n",
      " ('cl8', 0.0),\n",
      " ('cl9', 0.0)]\n"
     ]
    }
   ],
   "source": [
    "model2.fit(X_train, bg_train)\n",
    "\n",
    "print(model2.best_score_ ,model2.best_params_)\n",
    "from pprint import pprint\n",
    "pprint(sorted(zip(X_train.columns, model2.best_estimator_.feature_importances_), key=lambda x: -x[1]))"
   ]
  },
  {
   "cell_type": "code",
   "execution_count": 21,
   "metadata": {},
   "outputs": [
    {
     "name": "stdout",
     "output_type": "stream",
     "text": [
      "Fitting 5 folds for each of 24 candidates, totalling 120 fits\n"
     ]
    },
    {
     "name": "stderr",
     "output_type": "stream",
     "text": [
      "[Parallel(n_jobs=4)]: Done 120 out of 120 | elapsed:  7.0min finished\n"
     ]
    },
    {
     "data": {
      "text/plain": [
       "GridSearchCV(cv=5, error_score='raise',\n",
       "       estimator=SVR(C=1.0, cache_size=200, coef0=0.0, degree=3, epsilon=0.1, gamma='auto',\n",
       "  kernel='rbf', max_iter=-1, shrinking=True, tol=0.001, verbose=False),\n",
       "       fit_params=None, iid=True, n_jobs=4,\n",
       "       param_grid={'kernel': ['rbf', 'poly'], 'C': [10, 50, 100], 'gamma': [0.001, 0.01, 0.1, 0.5]},\n",
       "       pre_dispatch='2*n_jobs', refit=True, return_train_score='warn',\n",
       "       scoring='r2', verbose=1)"
      ]
     },
     "execution_count": 21,
     "metadata": {},
     "output_type": "execute_result"
    }
   ],
   "source": [
    "#APPLYING SUPPORT VECTOR REGRESSOR\n",
    "from sklearn.model_selection import GridSearchCV\n",
    "from sklearn.svm import SVR\n",
    "\n",
    "parameters = {'kernel':['rbf','poly'], 'C':[10, 50, 100],'gamma':[0.001,.01,.1,.5]}\n",
    "svr = SVR()\n",
    "clf = GridSearchCV(svr, parameters, cv=5, scoring='r2', verbose=1, n_jobs=4)\n",
    "clf.fit(X_train,fe_train)\n"
   ]
  },
  {
   "cell_type": "code",
   "execution_count": 22,
   "metadata": {},
   "outputs": [
    {
     "name": "stdout",
     "output_type": "stream",
     "text": [
      "0.6506056550180294 {'C': 100, 'gamma': 0.01, 'kernel': 'rbf'}\n"
     ]
    }
   ],
   "source": [
    "print(clf.best_score_ ,clf.best_params_)\n"
   ]
  },
  {
   "cell_type": "code",
   "execution_count": null,
   "metadata": {},
   "outputs": [],
   "source": []
  }
 ],
 "metadata": {
  "kernelspec": {
   "display_name": "Python 3",
   "language": "python",
   "name": "python3"
  },
  "language_info": {
   "codemirror_mode": {
    "name": "ipython",
    "version": 3
   },
   "file_extension": ".py",
   "mimetype": "text/x-python",
   "name": "python",
   "nbconvert_exporter": "python",
   "pygments_lexer": "ipython3",
   "version": "3.6.5"
  }
 },
 "nbformat": 4,
 "nbformat_minor": 2
}
